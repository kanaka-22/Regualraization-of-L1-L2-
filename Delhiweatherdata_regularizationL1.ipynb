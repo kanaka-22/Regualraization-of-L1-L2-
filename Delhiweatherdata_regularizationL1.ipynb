{
  "nbformat": 4,
  "nbformat_minor": 0,
  "metadata": {
    "colab": {
      "name": "Delhiweatherdata_regularizationL1.ipynb",
      "provenance": [],
      "collapsed_sections": [],
      "authorship_tag": "ABX9TyMCgGkqzuNNFKR78J2pCXXo",
      "include_colab_link": true
    },
    "kernelspec": {
      "name": "python3",
      "display_name": "Python 3"
    }
  },
  "cells": [
    {
      "cell_type": "markdown",
      "metadata": {
        "id": "view-in-github",
        "colab_type": "text"
      },
      "source": [
        "<a href=\"https://colab.research.google.com/github/kanaka-22/Regualraization-of-L1-L2-/blob/main/Delhiweatherdata_regularizationL1.ipynb\" target=\"_parent\"><img src=\"https://colab.research.google.com/assets/colab-badge.svg\" alt=\"Open In Colab\"/></a>"
      ]
    },
    {
      "cell_type": "code",
      "metadata": {
        "id": "ntYkGBmoXC06"
      },
      "source": [
        "    import keras as K\n",
        "    from keras.regularizers import l2\n",
        "    from keras.models import Sequential\n",
        "    from keras.layers import Dense, Dropout\n",
        "    from sklearn import datasets\n",
        "    from sklearn.model_selection import train_test_split\n",
        "    from sklearn.metrics import confusion_matrix"
      ],
      "execution_count": null,
      "outputs": []
    },
    {
      "cell_type": "code",
      "metadata": {
        "id": "vsOBrePJXLlx"
      },
      "source": [
        "dataset = datasets.make_classification(n_samples=100991, n_features=20, n_informative=5, \n",
        "                n_redundant=2, n_repeated=0, n_classes=2, n_clusters_per_class=2, \n",
        "                weights=None, flip_y=0.01, class_sep=1.0, hypercube=True, shift=0.0, \n",
        "                scale=1.0, shuffle=True, random_state=None)"
      ],
      "execution_count": null,
      "outputs": []
    },
    {
      "cell_type": "code",
      "metadata": {
        "id": "mLZ4dM7CXQzq",
        "colab": {
          "base_uri": "https://localhost:8080/",
          "height": 50
        },
        "outputId": "54356d98-1e6c-4a24-df68-6eba4a3cdc91"
      },
      "source": [
        "    X = dataset[0];  y = dataset[1]\n",
        "    print(X.shape);  print(y.shape)\n",
        "    X_train, X_test, y_train, y_test = train_test_split(X, y, test_size=0.33)"
      ],
      "execution_count": null,
      "outputs": [
        {
          "output_type": "stream",
          "text": [
            "(100991, 20)\n",
            "(100991,)\n"
          ],
          "name": "stdout"
        }
      ]
    },
    {
      "cell_type": "code",
      "metadata": {
        "id": "dOpEKUGDX6bx",
        "colab": {
          "base_uri": "https://localhost:8080/",
          "height": 336
        },
        "outputId": "2fd770d8-7fe6-463a-bd4e-e0de6a3faff3"
      },
      "source": [
        "    model = Sequential()\n",
        "    model.add(Dense(30, input_dim=20, kernel_regularizer=l2(0), # weight regularizer\n",
        "                    activation='relu'))\n",
        "    model.add(Dropout(0.5)) # Dropout Layer\n",
        "    model.add(Dense(18, kernel_regularizer=l2(0.), # weight regularizer\n",
        "                    activation='relu'))\n",
        "    model.add(Dropout(0.5)) # Dropout Layer    \n",
        "    model.add(Dense(1, activation='sigmoid'))\n",
        "    print(model.summary())"
      ],
      "execution_count": null,
      "outputs": [
        {
          "output_type": "stream",
          "text": [
            "Model: \"sequential_2\"\n",
            "_________________________________________________________________\n",
            "Layer (type)                 Output Shape              Param #   \n",
            "=================================================================\n",
            "dense_4 (Dense)              (None, 30)                630       \n",
            "_________________________________________________________________\n",
            "dropout_3 (Dropout)          (None, 30)                0         \n",
            "_________________________________________________________________\n",
            "dense_5 (Dense)              (None, 18)                558       \n",
            "_________________________________________________________________\n",
            "dropout_4 (Dropout)          (None, 18)                0         \n",
            "_________________________________________________________________\n",
            "dense_6 (Dense)              (None, 1)                 19        \n",
            "=================================================================\n",
            "Total params: 1,207\n",
            "Trainable params: 1,207\n",
            "Non-trainable params: 0\n",
            "_________________________________________________________________\n",
            "None\n"
          ],
          "name": "stdout"
        }
      ]
    },
    {
      "cell_type": "code",
      "metadata": {
        "id": "jWVUl-K0YBg8"
      },
      "source": [
        " model.compile(loss='binary_crossentropy', optimizer='adam',metrics=['accuracy'])\n",
        "    "
      ],
      "execution_count": null,
      "outputs": []
    },
    {
      "cell_type": "code",
      "metadata": {
        "id": "dS67vvxhYKBn",
        "colab": {
          "base_uri": "https://localhost:8080/",
          "height": 706
        },
        "outputId": "492ad0ac-bf1c-4399-cf05-c8e359d3ec0a"
      },
      "source": [
        "history=model.fit(X_train, y_train, epochs=20, batch_size=20, verbose = 1,validation_split=0.33)"
      ],
      "execution_count": null,
      "outputs": [
        {
          "output_type": "stream",
          "text": [
            "Train on 45334 samples, validate on 22329 samples\n",
            "Epoch 1/20\n",
            "45334/45334 [==============================] - 4s 79us/step - loss: 0.4830 - accuracy: 0.7611 - val_loss: 0.2374 - val_accuracy: 0.9163\n",
            "Epoch 2/20\n",
            "45334/45334 [==============================] - 3s 77us/step - loss: 0.2926 - accuracy: 0.8888 - val_loss: 0.1748 - val_accuracy: 0.9426\n",
            "Epoch 3/20\n",
            "45334/45334 [==============================] - 4s 79us/step - loss: 0.2435 - accuracy: 0.9178 - val_loss: 0.1540 - val_accuracy: 0.9503\n",
            "Epoch 4/20\n",
            "45334/45334 [==============================] - 4s 78us/step - loss: 0.2278 - accuracy: 0.9259 - val_loss: 0.1474 - val_accuracy: 0.9528\n",
            "Epoch 5/20\n",
            "45334/45334 [==============================] - 4s 79us/step - loss: 0.2125 - accuracy: 0.9320 - val_loss: 0.1420 - val_accuracy: 0.9541\n",
            "Epoch 6/20\n",
            "45334/45334 [==============================] - 4s 79us/step - loss: 0.2140 - accuracy: 0.9309 - val_loss: 0.1421 - val_accuracy: 0.9536\n",
            "Epoch 7/20\n",
            "45334/45334 [==============================] - 4s 79us/step - loss: 0.2066 - accuracy: 0.9336 - val_loss: 0.1355 - val_accuracy: 0.9561\n",
            "Epoch 8/20\n",
            "45334/45334 [==============================] - 4s 79us/step - loss: 0.2058 - accuracy: 0.9334 - val_loss: 0.1347 - val_accuracy: 0.9574\n",
            "Epoch 9/20\n",
            "45334/45334 [==============================] - 4s 79us/step - loss: 0.2058 - accuracy: 0.9339 - val_loss: 0.1326 - val_accuracy: 0.9585\n",
            "Epoch 10/20\n",
            "45334/45334 [==============================] - 4s 79us/step - loss: 0.2050 - accuracy: 0.9355 - val_loss: 0.1309 - val_accuracy: 0.9587\n",
            "Epoch 11/20\n",
            "45334/45334 [==============================] - 4s 80us/step - loss: 0.1973 - accuracy: 0.9376 - val_loss: 0.1313 - val_accuracy: 0.9586\n",
            "Epoch 12/20\n",
            "45334/45334 [==============================] - 4s 79us/step - loss: 0.1944 - accuracy: 0.9368 - val_loss: 0.1259 - val_accuracy: 0.9611\n",
            "Epoch 13/20\n",
            "45334/45334 [==============================] - 4s 80us/step - loss: 0.1988 - accuracy: 0.9379 - val_loss: 0.1311 - val_accuracy: 0.9584\n",
            "Epoch 14/20\n",
            "45334/45334 [==============================] - 4s 79us/step - loss: 0.1976 - accuracy: 0.9370 - val_loss: 0.1288 - val_accuracy: 0.9596\n",
            "Epoch 15/20\n",
            "45334/45334 [==============================] - 4s 78us/step - loss: 0.1986 - accuracy: 0.9363 - val_loss: 0.1274 - val_accuracy: 0.9608\n",
            "Epoch 16/20\n",
            "45334/45334 [==============================] - 4s 79us/step - loss: 0.1988 - accuracy: 0.9380 - val_loss: 0.1292 - val_accuracy: 0.9595\n",
            "Epoch 17/20\n",
            "45334/45334 [==============================] - 4s 79us/step - loss: 0.1957 - accuracy: 0.9395 - val_loss: 0.1252 - val_accuracy: 0.9615\n",
            "Epoch 18/20\n",
            "45334/45334 [==============================] - 4s 78us/step - loss: 0.1942 - accuracy: 0.9403 - val_loss: 0.1227 - val_accuracy: 0.9619\n",
            "Epoch 19/20\n",
            "45334/45334 [==============================] - 4s 79us/step - loss: 0.1938 - accuracy: 0.9398 - val_loss: 0.1212 - val_accuracy: 0.9629\n",
            "Epoch 20/20\n",
            "45334/45334 [==============================] - 4s 79us/step - loss: 0.1931 - accuracy: 0.9393 - val_loss: 0.1246 - val_accuracy: 0.9612\n"
          ],
          "name": "stdout"
        }
      ]
    },
    {
      "cell_type": "code",
      "metadata": {
        "id": "DFRKyBnLZ8CE",
        "colab": {
          "base_uri": "https://localhost:8080/",
          "height": 118
        },
        "outputId": "bbab56e0-1521-4b7d-f82b-eddc5beeaef0"
      },
      "source": [
        "    scores = model.evaluate(X_test, y_test)\n",
        "    print(); print(model.metrics_names); print(scores)\n",
        "    print(\"\\n%s: %.2f%%\" % (model.metrics_names[1], scores[1]*100))"
      ],
      "execution_count": null,
      "outputs": [
        {
          "output_type": "stream",
          "text": [
            "33328/33328 [==============================] - 1s 18us/step\n",
            "\n",
            "['loss', 'accuracy']\n",
            "[0.12658571091802917, 0.960543692111969]\n",
            "\n",
            "accuracy: 96.05%\n"
          ],
          "name": "stdout"
        }
      ]
    },
    {
      "cell_type": "code",
      "metadata": {
        "id": "Amp6vMwAz916",
        "colab": {
          "base_uri": "https://localhost:8080/",
          "height": 34
        },
        "outputId": "1bbec325-36b9-4245-f82c-98b9404fee46"
      },
      "source": [
        "score = model.evaluate(X_test, y_test, verbose=0)\n",
        "print(f'Test loss: {score[0]} / Test accuracy: {score[1]}')"
      ],
      "execution_count": null,
      "outputs": [
        {
          "output_type": "stream",
          "text": [
            "Test loss: 0.12658571091802917 / Test accuracy: 0.960543692111969\n"
          ],
          "name": "stdout"
        }
      ]
    },
    {
      "cell_type": "code",
      "metadata": {
        "id": "MEnWVQDDOkWm",
        "colab": {
          "base_uri": "https://localhost:8080/",
          "height": 295
        },
        "outputId": "88c1e899-0259-46f0-90d5-aea2a5823f3b"
      },
      "source": [
        "import matplotlib.pyplot as plt\n",
        "plt.plot(history.history['loss'], label='Training data')\n",
        "plt.plot(history.history['val_loss'], label='Validation data')\n",
        "plt.title('L1/L2 Activity Loss')\n",
        "plt.ylabel('Loss value')\n",
        "plt.xlabel('No. epoch')\n",
        "plt.legend(loc=\"upper left\")\n",
        "plt.show()"
      ],
      "execution_count": null,
      "outputs": [
        {
          "output_type": "display_data",
          "data": {
            "image/png": "[encoded data removed]",
            "text/plain": [
              "<Figure size 432x288 with 1 Axes>"
            ]
          },
          "metadata": {
            "tags": [],
            "needs_background": "light"
          }
        }
      ]
    },
    {
      "cell_type": "code",
      "metadata": {
        "id": "wzqUu-VkPWnW",
        "colab": {
          "base_uri": "https://localhost:8080/",
          "height": 295
        },
        "outputId": "367d19aa-0644-4267-940b-7041ffb90a92"
      },
      "source": [
        "plt.plot(history.history['accuracy'], label='Training data')\n",
        "plt.plot(history.history['val_accuracy'], label='Validation data')\n",
        "plt.title('L1/L2 Activity Accuracy')\n",
        "plt.ylabel('Accuracy')\n",
        "plt.xlabel('No. epoch')\n",
        "plt.legend(loc=\"upper left\")\n",
        "plt.show()"
      ],
      "execution_count": null,
      "outputs": [
        {
          "output_type": "display_data",
          "data": {
            "image/png": "[encoded data removed]",
            "text/plain": [
              "<Figure size 432x288 with 1 Axes>"
            ]
          },
          "metadata": {
            "tags": [],
            "needs_background": "light"
          }
        }
      ]
    }
  ]
}